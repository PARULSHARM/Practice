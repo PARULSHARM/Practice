{
 "cells": [
  {
   "cell_type": "code",
   "execution_count": 19,
   "metadata": {
    "collapsed": true
   },
   "outputs": [],
   "source": [
    "import sys"
   ]
  },
  {
   "cell_type": "code",
   "execution_count": 20,
   "metadata": {},
   "outputs": [
    {
     "name": "stdout",
     "output_type": "stream",
     "text": [
      "Probability that mark travel by bus is : 0.2\n",
      "Probability that alice travel by bus is : 0.2\n",
      "Probability it will rain this weekend : 0.5\n"
     ]
    }
   ],
   "source": [
    "pmb = eval(input(''))\n",
    "pab = eval(input(''))\n",
    "p1 = eval(input(''))"
   ]
  },
  {
   "cell_type": "code",
   "execution_count": 38,
   "metadata": {},
   "outputs": [
    {
     "name": "stdout",
     "output_type": "stream",
     "text": [
      "0.160000\n"
     ]
    }
   ],
   "source": [
    "not_pab = 1 - pab\n",
    "not_pmb = 1 - pmb\n",
    "not_met_in_bus_or_train = pmb*not_pab + pab*not_pmb\n",
    "not_met_in_bus_or_train_and_rained = not_met_in_bus_or_train * p1\n",
    "print('{0:.6f}'.format(not_met_in_bus_or_train_and_rained))"
   ]
  }
 ],
 "metadata": {
  "kernelspec": {
   "display_name": "Python 3",
   "language": "python",
   "name": "python3"
  },
  "language_info": {
   "codemirror_mode": {
    "name": "ipython",
    "version": 3
   },
   "file_extension": ".py",
   "mimetype": "text/x-python",
   "name": "python",
   "nbconvert_exporter": "python",
   "pygments_lexer": "ipython3",
   "version": "3.6.1"
  }
 },
 "nbformat": 4,
 "nbformat_minor": 2
}
