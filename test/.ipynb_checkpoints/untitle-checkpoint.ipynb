{
 "cells": [
  {
   "cell_type": "code",
   "execution_count": null,
   "metadata": {
    "collapsed": true
   },
   "outputs": [],
   "source": [
    "import pandas as pd\n",
    "import numpy as np\n",
    "from sklearn.cluster import KMeans\n",
    "from sklearn.metrics import silhouette_score\n",
    "from sklearn.preprocessing import LabelEncoder, RobustScaler\n",
    "from sklearn import metrics\n",
    "from sklearn.metrics import pairwise_distances"
   ]
  },
  {
   "cell_type": "code",
   "execution_count": null,
   "metadata": {
    "collapsed": true
   },
   "outputs": [],
   "source": [
    "product = pd.read_csv('/home/parul/Music/Practice/test/72cb9080-b-Q1ClData/cproducts.csv')\n",
    "tender = pd.read_csv('/home/parul/Music/Practice/test/72cb9080-b-Q1ClData/ctender.csv')"
   ]
  },
  {
   "cell_type": "code",
   "execution_count": null,
   "metadata": {},
   "outputs": [],
   "source": [
    "product.head()"
   ]
  },
  {
   "cell_type": "code",
   "execution_count": null,
   "metadata": {},
   "outputs": [],
   "source": [
    "tender.head()"
   ]
  },
  {
   "cell_type": "code",
   "execution_count": null,
   "metadata": {
    "collapsed": true
   },
   "outputs": [],
   "source": [
    "product['promotion_description'].fillna('no_promo', inplace=True)\n",
    "product['Gender'].fillna('no_gender', inplace=True)\n",
    "product['State'].fillna('no_state', inplace=True)\n",
    "product['PinCode'].fillna(-1, inplace=True)\n",
    "product['DOB'].fillna(\"1\", inplace=True)"
   ]
  },
  {
   "cell_type": "code",
   "execution_count": null,
   "metadata": {},
   "outputs": [],
   "source": [
    "first = product.replace(['female', 'male'], [-1, 1])\n",
    "second = first.replace(['BBProfitClub','BBProfitClub,Payback','BBSavingsClub','BBSavingsClub,BBProfitClub','BBSavingsClub,BBProfitClub,Payback','BBSavingsClub,Payback','BBSavingsClub,T24Club','BBSavingsClub,T24Club,BBProfitClub','BBSavingsClub,T24Club,BBProfitClub,Payback','BBSavingsClub,T24Club,Payback','FGShoppingFest','FGShoppingFest,BBProfitClub',\n",
    " 'FGShoppingFest,BBProfitClub,Payback','FGShoppingFest,Payback','FGShoppingFest,T24Club','FGShoppingFest,T24Club,BBProfitClub','FGShoppingFest,T24Club,BBProfitClub,Payback',\n",
    " 'FGShoppingFest,T24Club,Payback','FuturePrivilegeClub,BBProfitClub','FuturePrivilegeClub,FGShoppingFest','FuturePrivilegeClub,Payback',\n",
    " 'FuturePrivilegeClub,T24Club,BBProfitClub','FuturePrivilegeClub,T24Club,BBProfitClub,Payback','FuturePrivilegeClub,T24Club,Payback','Payback',\n",
    " 'T24Club,BBProfitClub','T24Club,BBProfitClub,Payback','T24Club,Payback'], [ 0,  1,  2,  3,  4,  5,  6,  7,  8,  9, 10, 11, 12, 13, 14, 15, 16,\n",
    "       17, 18, 19, 20, 21, 22, 23, 24, 25, 26, 27])\n",
    "second.head()"
   ]
  },
  {
   "cell_type": "code",
   "execution_count": null,
   "metadata": {},
   "outputs": [],
   "source": [
    "q = list(set(product['DOB']))\n",
    "third = second.replace(q, np.arange(len(q)))\n",
    "l = list(set(product['customerID']))\n",
    "fourth = third.replace(l, np.arange(len(l)))\n",
    "m = list(set(product['State']))\n",
    "fifth = fourth.replace(m, np.arange(len(m)))\n",
    "n = list(set(product['store_description']))\n",
    "sixth = fifth.replace(n, np.arange(len(n)))\n",
    "o = list(set(product['promo_code']))\n",
    "seventh = sixth.replace(o, np.arange(len(o)))\n",
    "s = list(set(product['promotion_description']))\n",
    "eight = seventh.replace(s, np.arange(len(s)))\n",
    "t = list(set(product['product_description']))\n",
    "ninth = eight.replace(t, np.arange(len(t)))"
   ]
  },
  {
   "cell_type": "code",
   "execution_count": null,
   "metadata": {},
   "outputs": [],
   "source": []
  },
  {
   "cell_type": "code",
   "execution_count": null,
   "metadata": {},
   "outputs": [],
   "source": []
  },
  {
   "cell_type": "code",
   "execution_count": null,
   "metadata": {},
   "outputs": [],
   "source": []
  },
  {
   "cell_type": "code",
   "execution_count": null,
   "metadata": {},
   "outputs": [],
   "source": []
  },
  {
   "cell_type": "code",
   "execution_count": null,
   "metadata": {
    "collapsed": true
   },
   "outputs": [],
   "source": []
  },
  {
   "cell_type": "code",
   "execution_count": null,
   "metadata": {
    "collapsed": true
   },
   "outputs": [],
   "source": [
    "kmeans_model = KMeans(n_clusters=3, random_state=1).fit(product)\n",
    "labels = kmeans_model.labels_\n",
    "metrics.silhouette_score(X, labels, metric='euclidean')"
   ]
  }
 ],
 "metadata": {
  "kernelspec": {
   "display_name": "Python 3",
   "language": "python",
   "name": "python3"
  },
  "language_info": {
   "codemirror_mode": {
    "name": "ipython",
    "version": 3
   },
   "file_extension": ".py",
   "mimetype": "text/x-python",
   "name": "python",
   "nbconvert_exporter": "python",
   "pygments_lexer": "ipython3",
   "version": "3.6.1"
  }
 },
 "nbformat": 4,
 "nbformat_minor": 2
}
